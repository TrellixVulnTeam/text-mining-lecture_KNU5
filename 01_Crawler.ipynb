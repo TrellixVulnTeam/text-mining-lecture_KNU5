{
 "cells": [
  {
   "cell_type": "markdown",
   "source": [
    "# Data Collection: Building an Instagram Crawler"
   ],
   "metadata": {}
  },
  {
   "cell_type": "markdown",
   "source": [
    "In this walkthrough we will see how we can crawl data from Instagram using the Selenium WebDriver."
   ],
   "metadata": {}
  },
  {
   "cell_type": "markdown",
   "source": [
    "## Step 1: Set up the WebDriver\n",
    "\n",
    "The first thing we need is a web driver. A web driver is basically a browser that can be controlled programatically."
   ],
   "metadata": {}
  },
  {
   "cell_type": "code",
   "execution_count": 6,
   "source": [
    "from selenium import webdriver\n",
    "def start_webdriver():\n",
    "    chromedriver_path = 'helpers/chromedriver'\n",
    "    driver = webdriver.Chrome(chromedriver_path)\n",
    "    return driver"
   ],
   "outputs": [],
   "metadata": {}
  },
  {
   "cell_type": "code",
   "execution_count": 8,
   "source": [
    "driver = start_webdriver()"
   ],
   "outputs": [],
   "metadata": {}
  },
  {
   "cell_type": "markdown",
   "source": [
    "## Step 2: Navigate to Instagram"
   ],
   "metadata": {}
  },
  {
   "cell_type": "code",
   "execution_count": 9,
   "source": [
    "driver.get(\"https://www.instagram.com/\")"
   ],
   "outputs": [],
   "metadata": {}
  }
 ],
 "metadata": {
  "orig_nbformat": 4,
  "language_info": {
   "name": "python",
   "version": "3.9.6",
   "mimetype": "text/x-python",
   "codemirror_mode": {
    "name": "ipython",
    "version": 3
   },
   "pygments_lexer": "ipython3",
   "nbconvert_exporter": "python",
   "file_extension": ".py"
  },
  "kernelspec": {
   "name": "python3",
   "display_name": "Python 3.9.6 64-bit ('venv': venv)"
  },
  "interpreter": {
   "hash": "44cf03960ceb7c4dae63840fdb07d1a636e2d44365fb83c3782c6fb7da7fa481"
  }
 },
 "nbformat": 4,
 "nbformat_minor": 2
}